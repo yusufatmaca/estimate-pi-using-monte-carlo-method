{
  "nbformat": 4,
  "nbformat_minor": 0,
  "metadata": {
    "colab": {
      "provenance": [],
      "gpuType": "T4"
    },
    "kernelspec": {
      "name": "python3",
      "display_name": "Python 3"
    },
    "language_info": {
      "name": "python"
    },
    "accelerator": "GPU"
  },
  "cells": [
    {
      "cell_type": "code",
      "execution_count": 1,
      "metadata": {
        "colab": {
          "base_uri": "https://localhost:8080/"
        },
        "id": "pqsOgpYvNJEx",
        "outputId": "47eb34b3-6d2d-4c4e-8137-51df62f99ec2"
      },
      "outputs": [
        {
          "output_type": "stream",
          "name": "stdout",
          "text": [
            "Python 3.10.12\n",
            "nvcc: NVIDIA (R) Cuda compiler driver\n",
            "Copyright (c) 2005-2023 NVIDIA Corporation\n",
            "Built on Tue_Aug_15_22:02:13_PDT_2023\n",
            "Cuda compilation tools, release 12.2, V12.2.140\n",
            "Build cuda_12.2.r12.2/compiler.33191640_0\n",
            "Collecting nvcc4jupyter\n",
            "  Downloading nvcc4jupyter-1.2.1-py3-none-any.whl.metadata (5.1 kB)\n",
            "Downloading nvcc4jupyter-1.2.1-py3-none-any.whl (10 kB)\n",
            "Installing collected packages: nvcc4jupyter\n",
            "Successfully installed nvcc4jupyter-1.2.1\n",
            "Detected platform \"Colab\". Running its setup...\n",
            "Source files will be saved in \"/tmp/tmptrvxwa8c\".\n"
          ]
        }
      ],
      "source": [
        "# check python version to verify automatically installed\n",
        "!python --version\n",
        "\n",
        "# check nvcc (CUDA compiler driver) version to verify the automatically installed\n",
        "!nvcc --version\n",
        "\n",
        "# since google colab runs jupyter notebook, we need to install nvcc4jupyter: cuda c++ plugin for jupyter notebook\n",
        "!pip install nvcc4jupyter\n",
        "\n",
        "# after installing, load the package (or extension)\n",
        "%load_ext nvcc4jupyter"
      ]
    },
    {
      "cell_type": "code",
      "source": [
        "%%cuda\n",
        "\n",
        "#include <curand_kernel.h>\n",
        "#include <stdio.h>\n",
        "\n",
        "__global__ void generate_random_numbers(unsigned long long int *count, unsigned long seed, unsigned long long int stride) {\n",
        "    int tid = threadIdx.x + blockIdx.x * blockDim.x;\n",
        "\n",
        "    curandState state;\n",
        "    curand_init(seed + tid, tid, 0, &state);\n",
        "\n",
        "    unsigned long long int local_counter = 0;\n",
        "\n",
        "    for (int i = 0; i < stride; i++) {\n",
        "      float x = curand_uniform(&state) * 2.0f - 1.0f;\n",
        "      float y = curand_uniform(&state) * 2.0f - 1.0f;\n",
        "\n",
        "      float distance_squared = x*x + y*y;\n",
        "\n",
        "      if (distance_squared <= 1) local_counter++;\n",
        "    }\n",
        "\n",
        "    atomicAdd(count, local_counter);\n",
        "}\n",
        "\n",
        "int main() {\n",
        "    // Device props\n",
        "    // CC 7.5\n",
        "    // 16 real block\n",
        "    // 64 thread per block == 1024 maximum threads per multiprocessor\n",
        "    // warp is 32\n",
        "\n",
        "    int block = 32;\n",
        "    int thread = 256;\n",
        "    unsigned long long int count = 0, *cuda_count, n = 1e12;\n",
        "    unsigned long long int stride = n / (block * thread);\n",
        "    unsigned long seed = time(NULL);\n",
        "\n",
        "    cudaMalloc((void**)&cuda_count, sizeof(unsigned long long int));\n",
        "    cudaMemcpy(cuda_count, &count, sizeof(unsigned long long int), cudaMemcpyHostToDevice);\n",
        "    generate_random_numbers<<<block, thread>>>(cuda_count, seed, stride);\n",
        "    cudaMemcpy(&count, cuda_count, sizeof(unsigned long long int), cudaMemcpyDeviceToHost);\n",
        "    cudaDeviceSynchronize();\n",
        "\n",
        "    double pi = 4 * count / ((double)n);\n",
        "    printf(\"%0.12f\\n\", pi);\n",
        "\n",
        "    return 0;\n",
        "}\n",
        "\n",
        "// RESULT -> 3.141593035940"
      ],
      "metadata": {
        "colab": {
          "base_uri": "https://localhost:8080/"
        },
        "id": "MyuCr2Z2bNT3",
        "outputId": "8ba90d7b-fcd1-46f6-ff29-417c797ddf39"
      },
      "execution_count": 3,
      "outputs": [
        {
          "output_type": "stream",
          "name": "stdout",
          "text": [
            "3.141590227624\n",
            "\n"
          ]
        }
      ]
    }
  ]
}