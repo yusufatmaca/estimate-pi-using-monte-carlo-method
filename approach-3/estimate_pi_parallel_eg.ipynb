{
  "nbformat": 4,
  "nbformat_minor": 0,
  "metadata": {
    "colab": {
      "provenance": [],
      "gpuType": "T4"
    },
    "kernelspec": {
      "name": "python3",
      "display_name": "Python 3"
    },
    "language_info": {
      "name": "python"
    },
    "accelerator": "GPU"
  },
  "cells": [
    {
      "cell_type": "code",
      "execution_count": 2,
      "metadata": {
        "colab": {
          "base_uri": "https://localhost:8080/"
        },
        "id": "DqtqWtvbE8Av",
        "outputId": "5e2252af-17d8-470f-92fc-b1f567e91603"
      },
      "outputs": [
        {
          "output_type": "stream",
          "name": "stdout",
          "text": [
            "Python 3.10.12\n",
            "nvcc: NVIDIA (R) Cuda compiler driver\n",
            "Copyright (c) 2005-2023 NVIDIA Corporation\n",
            "Built on Tue_Aug_15_22:02:13_PDT_2023\n",
            "Cuda compilation tools, release 12.2, V12.2.140\n",
            "Build cuda_12.2.r12.2/compiler.33191640_0\n",
            "Collecting nvcc4jupyter\n",
            "  Downloading nvcc4jupyter-1.2.1-py3-none-any.whl.metadata (5.1 kB)\n",
            "Downloading nvcc4jupyter-1.2.1-py3-none-any.whl (10 kB)\n",
            "Installing collected packages: nvcc4jupyter\n",
            "Successfully installed nvcc4jupyter-1.2.1\n",
            "Detected platform \"Colab\". Running its setup...\n",
            "Source files will be saved in \"/tmp/tmpqve_6oyy\".\n"
          ]
        }
      ],
      "source": [
        "# Check the Python version to verify automatically installed\n",
        "!python --version\n",
        "\n",
        "# Check NVCC (CUDA compiler driver) version to verify the automatically installed\n",
        "!nvcc --version\n",
        "\n",
        "# Since Google Colab runs Jupyter Notebook, we need to install the nvcc4jupyter: CUDA C++ Plugin for Jupyter Notebook\n",
        "!pip install nvcc4jupyter\n",
        "\n",
        "# After installing, load the package (called extension)\n",
        "%load_ext nvcc4jupyter"
      ]
    },
    {
      "cell_type": "code",
      "source": [
        "%%cuda\n",
        "#include \"cuda_runtime.h\"\n",
        "#include \"device_launch_parameters.h\"\n",
        "#include <curand_kernel.h>\n",
        "\n",
        "#include <stdio.h>\n",
        "#include <stdlib.h>\n",
        "#include <time.h>\n",
        "\n",
        "\n",
        "__global__ void monteCarloPiEstimate(int* d_insideCircle, long long int n, unsigned long seed) {\n",
        "    int idx = threadIdx.x + blockIdx.x * blockDim.x;\n",
        "    int stride = blockDim.x * gridDim.x;\n",
        "\n",
        "    curandState state;\n",
        "    curand_init(seed, idx, 0, &state);\n",
        "\n",
        "    int local_count = 0;\n",
        "\n",
        "    for (int i = idx; i < n; i += stride) {\n",
        "        float x = curand_uniform(&state) * 2.0f - 1.0f;\n",
        "        float y = curand_uniform(&state) * 2.0f - 1.0f;\n",
        "        float distance_squared = x * x + y * y;\n",
        "        if (distance_squared <= 1)\n",
        "            local_count++;\n",
        "    }\n",
        "        atomicAdd(d_insideCircle, local_count);\n",
        "}\n",
        "\n",
        "\n",
        "int main() {\n",
        "    int n = 1 << 24;\n",
        "    int h_insideCircle = 0;\n",
        "    int* d_insideCircle;\n",
        "\n",
        "    cudaMalloc(&d_insideCircle, sizeof(int));\n",
        "\n",
        "    cudaMemcpy(d_insideCircle, &h_insideCircle, sizeof(int), cudaMemcpyHostToDevice);\n",
        "\n",
        "    int blockSize = 1024;\n",
        "    int numBlocks = (n + blockSize - 1) / blockSize;\n",
        "    printf(\"%d,%d\", blockSize, numBlocks);\n",
        "    monteCarloPiEstimate << <numBlocks, blockSize >> > (d_insideCircle, n, time(NULL));\n",
        "\n",
        "    cudaMemcpy(&h_insideCircle, d_insideCircle, sizeof(int), cudaMemcpyDeviceToHost);\n",
        "\n",
        "    float piEstimate = 4.0f * h_insideCircle / n;\n",
        "    printf(\"Estimated Pi = %f\\n\", piEstimate);\n",
        "\n",
        "    cudaFree(d_insideCircle);\n",
        "\n",
        "    return 0;\n",
        "}"
      ],
      "metadata": {
        "colab": {
          "base_uri": "https://localhost:8080/"
        },
        "id": "boJmsK6aFB3a",
        "outputId": "44754836-2a01-429c-adc8-240c05370977"
      },
      "execution_count": 3,
      "outputs": [
        {
          "output_type": "stream",
          "name": "stdout",
          "text": [
            "1024,16384Estimated Pi = 3.141793\n",
            "\n"
          ]
        }
      ]
    }
  ]
}