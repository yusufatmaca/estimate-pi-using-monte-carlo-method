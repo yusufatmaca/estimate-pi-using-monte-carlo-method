{
  "nbformat": 4,
  "nbformat_minor": 0,
  "metadata": {
    "colab": {
      "provenance": [],
      "gpuType": "T4"
    },
    "kernelspec": {
      "name": "python3",
      "display_name": "Python 3"
    },
    "language_info": {
      "name": "python"
    },
    "accelerator": "GPU"
  },
  "cells": [
    {
      "cell_type": "code",
      "execution_count": 2,
      "metadata": {
        "colab": {
          "base_uri": "https://localhost:8080/"
        },
        "id": "pqsOgpYvNJEx",
        "outputId": "8395c52d-f459-4cb9-e187-44b9b11b51c6"
      },
      "outputs": [
        {
          "output_type": "stream",
          "name": "stdout",
          "text": [
            "Python 3.10.12\n",
            "nvcc: NVIDIA (R) Cuda compiler driver\n",
            "Copyright (c) 2005-2023 NVIDIA Corporation\n",
            "Built on Tue_Aug_15_22:02:13_PDT_2023\n",
            "Cuda compilation tools, release 12.2, V12.2.140\n",
            "Build cuda_12.2.r12.2/compiler.33191640_0\n",
            "Collecting nvcc4jupyter\n",
            "  Downloading nvcc4jupyter-1.2.1-py3-none-any.whl.metadata (5.1 kB)\n",
            "Downloading nvcc4jupyter-1.2.1-py3-none-any.whl (10 kB)\n",
            "Installing collected packages: nvcc4jupyter\n",
            "Successfully installed nvcc4jupyter-1.2.1\n",
            "Detected platform \"Colab\". Running its setup...\n",
            "Source files will be saved in \"/tmp/tmpb9j9dim5\".\n"
          ]
        }
      ],
      "source": [
        "# check python version to verify automatically installed\n",
        "!python --version\n",
        "\n",
        "# check nvcc (CUDA compiler driver) version to verify the automatically installed\n",
        "!nvcc --version\n",
        "\n",
        "# since google colab runs jupyter notebook, we need to install nvcc4jupyter: cuda c++ plugin for jupyter notebook\n",
        "!pip install nvcc4jupyter\n",
        "\n",
        "# after installing, load the package (or extension)\n",
        "%load_ext nvcc4jupyter"
      ]
    },
    {
      "cell_type": "code",
      "source": [
        "%%cuda\n",
        "\n",
        "#include <stdio.h>\n",
        "#include <curand_kernel.h>\n",
        "\n",
        "__global__\n",
        "void estimate_pi(int *d_number_in_circle, int number_of_tosses, unsigned long seed)\n",
        "{\n",
        "  int index = threadIdx.x + blockIdx.x * blockDim.x;\n",
        "  int stride = blockDim.x * gridDim.x;\n",
        "\n",
        "  curandState state;\n",
        "  curand_init(seed + index, index, 0, &state);\n",
        "\n",
        "  int local_count = 0;\n",
        "\n",
        "  for (int i = index; i < number_of_tosses; i += stride) {\n",
        "        float x = curand_uniform(&state) * 2.0f - 1.0f;\n",
        "        float y = curand_uniform(&state) * 2.0f - 1.0f;\n",
        "        float distance_squared = x*x + y*y;\n",
        "        if (distance_squared <= 1)\n",
        "        {\n",
        "            local_count++;\n",
        "        }\n",
        "    }\n",
        "  atomicAdd(d_number_in_circle, local_count); // to prevent race conditions\n",
        "}\n",
        "\n",
        "int main(void)\n",
        "{\n",
        "  int number_of_tosses = 1 << 24;    // Total number of points (tosses)\n",
        "  int block_size = 256;              // Number of threads per block\n",
        "  int num_blocks = 256;              // Number of blocks\n",
        "\n",
        "  int *d_number_in_circle;\n",
        "  cudaMalloc(&d_number_in_circle, sizeof(int));\n",
        "  cudaMemset(d_number_in_circle, 0, sizeof(int));\n",
        "\n",
        "  unsigned long seed = time(NULL);\n",
        "\n",
        "  estimate_pi<<<num_blocks, block_size>>>(d_number_in_circle, number_of_tosses, seed);\n",
        "\n",
        "  int number_in_circle;\n",
        "  cudaMemcpy(&number_in_circle, d_number_in_circle, sizeof(int), cudaMemcpyDeviceToHost);\n",
        "\n",
        "  float pi_estimated = 4.0f * number_in_circle / number_of_tosses;\n",
        "  printf(\"Estimated Pi = %f\\n\", pi_estimated);\n",
        "\n",
        "  cudaFree(d_number_in_circle);\n",
        "\n",
        "  return 0;\n",
        "}"
      ],
      "metadata": {
        "colab": {
          "base_uri": "https://localhost:8080/"
        },
        "id": "sTc-3Mv6NhNs",
        "outputId": "02871cbc-a369-4bb1-e214-96b973ceb94a"
      },
      "execution_count": 3,
      "outputs": [
        {
          "output_type": "stream",
          "name": "stdout",
          "text": [
            "Estimated Pi = 3.141718\n",
            "\n"
          ]
        }
      ]
    }
  ]
}