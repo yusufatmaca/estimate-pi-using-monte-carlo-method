{
  "nbformat": 4,
  "nbformat_minor": 0,
  "metadata": {
    "colab": {
      "provenance": []
    },
    "kernelspec": {
      "name": "python3",
      "display_name": "Python 3"
    },
    "language_info": {
      "name": "python"
    }
  },
  "cells": [
    {
      "cell_type": "code",
      "execution_count": 1,
      "metadata": {
        "colab": {
          "base_uri": "https://localhost:8080/"
        },
        "id": "L9wqey4PUuHz",
        "outputId": "cbb5fae2-48dd-4627-cab2-a76637163ca8"
      },
      "outputs": [
        {
          "output_type": "stream",
          "name": "stdout",
          "text": [
            "Python 3.10.12\n",
            "nvcc: NVIDIA (R) Cuda compiler driver\n",
            "Copyright (c) 2005-2023 NVIDIA Corporation\n",
            "Built on Tue_Aug_15_22:02:13_PDT_2023\n",
            "Cuda compilation tools, release 12.2, V12.2.140\n",
            "Build cuda_12.2.r12.2/compiler.33191640_0\n",
            "Collecting nvcc4jupyter\n",
            "  Downloading nvcc4jupyter-1.2.1-py3-none-any.whl.metadata (5.1 kB)\n",
            "Downloading nvcc4jupyter-1.2.1-py3-none-any.whl (10 kB)\n",
            "Installing collected packages: nvcc4jupyter\n",
            "Successfully installed nvcc4jupyter-1.2.1\n",
            "Detected platform \"Colab\". Running its setup...\n",
            "Source files will be saved in \"/tmp/tmpnjd_ktw5\".\n"
          ]
        }
      ],
      "source": [
        "# check python version to verify automatically installed\n",
        "!python --version\n",
        "\n",
        "# check nvcc (CUDA compiler driver) version to verify the automatically installed\n",
        "!nvcc --version\n",
        "\n",
        "# since google colab runs jupyter notebook, we need to install nvcc4jupyter: cuda c++ plugin for jupyter notebook\n",
        "!pip install nvcc4jupyter\n",
        "\n",
        "# after installing, load the package (or extension)\n",
        "%load_ext nvcc4jupyter"
      ]
    },
    {
      "cell_type": "code",
      "source": [
        "%%cuda\n",
        "\n",
        "#include <stdio.h>\n",
        "#include <stdlib.h>\n",
        "#include <time.h>\n",
        "\n",
        "float random_float()\n",
        "{\n",
        "    float scale = rand() / (float) RAND_MAX; // 0 <= scale <= 1, [0, 1]\n",
        "    return -1 + scale * 2; // first, multiply by 2 -> 0*2 <= 2*scale <= 1*2, then subtract by 1 ->  0 - 1 <= 2*scale - 1, [-1, 1]\n",
        "}\n",
        "\n",
        "int main(void)\n",
        "{\n",
        "    int number_in_circle = 0, number_of_tosses = 1 << 24;\n",
        "    srand(time(NULL));\n",
        "\n",
        "    for (int toss = 0; toss < number_of_tosses; toss++)\n",
        "    {\n",
        "        float x = random_float();\n",
        "        float y = random_float();\n",
        "        float distance_squared = x*x + y*y;\n",
        "        if (distance_squared <= 1) number_in_circle++;\n",
        "    }\n",
        "    float estimated_pi = 4.0f * number_in_circle / ((double) number_of_tosses);\n",
        "    printf(\"Estimated Pi = %f\\n\", estimated_pi);\n",
        "\n",
        "    return 0;\n",
        "\n",
        "}"
      ],
      "metadata": {
        "colab": {
          "base_uri": "https://localhost:8080/"
        },
        "id": "_2pQU6ETU2Hm",
        "outputId": "5ec1ee7a-f9eb-4ba0-fa51-b17623ee81b4"
      },
      "execution_count": 2,
      "outputs": [
        {
          "output_type": "stream",
          "name": "stdout",
          "text": [
            "Estimated Pi = 3.142383\n",
            "\n"
          ]
        }
      ]
    }
  ]
}